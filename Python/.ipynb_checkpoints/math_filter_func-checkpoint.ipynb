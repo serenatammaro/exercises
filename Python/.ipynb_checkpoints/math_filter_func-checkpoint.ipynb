{
 "cells": [
  {
   "cell_type": "code",
   "execution_count": 7,
   "metadata": {},
   "outputs": [
    {
     "data": {
      "text/plain": [
       "[1, 4, 9, 16, 25]"
      ]
     },
     "execution_count": 7,
     "metadata": {},
     "output_type": "execute_result"
    }
   ],
   "source": [
    "def square(num):\n",
    "    return num**2\n",
    "\n",
    "my_nums = [1, 2, 3, 4, 5]\n",
    "\n",
    "list(map(square, my_nums))\n",
    "   "
   ]
  },
  {
   "cell_type": "code",
   "execution_count": 10,
   "metadata": {},
   "outputs": [
    {
     "name": "stdout",
     "output_type": "stream",
     "text": [
      "EVEN\n",
      "E\n",
      "EVEN\n",
      "M\n"
     ]
    }
   ],
   "source": [
    "def splicer(name):\n",
    "    if len(name)%2 == 0:\n",
    "        return \"EVEN\"\n",
    "    else:\n",
    "        return name[0]\n",
    "\n",
    "names = [\"Andy\", \"Eve\", \"Carl\", \"Max\"]\n",
    "\n",
    "for item in map(splicer, names):\n",
    "    print(item)"
   ]
  },
  {
   "cell_type": "code",
   "execution_count": 14,
   "metadata": {},
   "outputs": [
    {
     "name": "stdout",
     "output_type": "stream",
     "text": [
      "2\n",
      "4\n",
      "6\n"
     ]
    }
   ],
   "source": [
    "def check_even(num):\n",
    "    return num%2 == 0\n",
    "nums = [1, 2, 3, 4, 5, 6]\n",
    "\n",
    "for item in filter(check_even, nums):\n",
    "    print(item)"
   ]
  },
  {
   "cell_type": "code",
   "execution_count": null,
   "metadata": {},
   "outputs": [],
   "source": []
  }
 ],
 "metadata": {
  "kernelspec": {
   "display_name": "Python 3",
   "language": "python",
   "name": "python3"
  },
  "language_info": {
   "codemirror_mode": {
    "name": "ipython",
    "version": 3
   },
   "file_extension": ".py",
   "mimetype": "text/x-python",
   "name": "python",
   "nbconvert_exporter": "python",
   "pygments_lexer": "ipython3",
   "version": "3.7.3"
  }
 },
 "nbformat": 4,
 "nbformat_minor": 2
}
