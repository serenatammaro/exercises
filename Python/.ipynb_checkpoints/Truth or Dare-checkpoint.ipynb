{
 "cells": [
  {
   "cell_type": "code",
   "execution_count": null,
   "metadata": {},
   "outputs": [
    {
     "name": "stdout",
     "output_type": "stream",
     "text": [
      "Who is playing today?\n",
      "a\n",
      "Who is playing today?\n",
      "s\n",
      "Who is playing today?\n",
      "d\n",
      "Who is playing today?\n",
      "\n",
      "player: d\n",
      "Now we are playing with d\n",
      "Truth (t) or Dare (d) ?\n",
      "d\n",
      "The Oracle wants you to: Down your magic juice\n",
      "player: a\n",
      "Now we are playing with a\n",
      "Truth (t) or Dare (d) ?\n",
      "dare\n",
      "The Oracle wants you to: Kiss the nose of the person on your left \n",
      "player: s\n",
      "Now we are playing with s\n",
      "Truth (t) or Dare (d) ?\n",
      "Dare\n",
      "The Oracle wants you to: Kiss the nose of the person on your left \n",
      "player: \n",
      "Now we are playing with \n",
      "Truth (t) or Dare (d) ?\n",
      "t\n",
      "The Oracle wants to ask you: Would you say your dick is smaller, average or bigger than the average?\n",
      "player: d\n",
      "Now we are playing with d\n",
      "Truth (t) or Dare (d) ?\n",
      "truth\n",
      "The Oracle wants to ask you: Have you ever inserted a cucumber in one of your private holes?\n",
      "player: s\n",
      "Now we are playing with s\n",
      "Truth (t) or Dare (d) ?\n"
     ]
    }
   ],
   "source": [
    "import sys\n",
    "import random\n",
    "\n",
    "#PLAYERS\n",
    "\n",
    "playersList = [\"\"]\n",
    "\n",
    "howManyPlayers = True\n",
    "\n",
    "while howManyPlayers:\n",
    "    print(\"Who is playing today?\")\n",
    "    playerName = input()\n",
    "    if playerName == \"\":\n",
    "        howManyPlayers = False\n",
    "        break\n",
    "    playersList.append(playerName)\n",
    "\n",
    "\n",
    "#for i in range(len(playersList)):\n",
    " #       print(\"list giocatori: \" + playersList[i])\n",
    "\n",
    "\n",
    "#QUESTIONS\n",
    "\n",
    "questionsList = [\"Would you say your dick is smaller, average or bigger than the average?\", \"Have you ever inserted a cucumber in one of your private holes?\"]\n",
    "\n",
    "#DARES\n",
    "\n",
    "daresList = [\"Do five push-ups\", \"Kiss the nose of the person on your left \", \"Down your magic juice\"]\n",
    "\n",
    "#GAME\n",
    "\n",
    "game = True\n",
    "while game:\n",
    "    for i in range(len(playersList)):\n",
    "     #   print(\"list giocatori: \" + playersList[i])\n",
    "    #playersList\n",
    "        playerPlaying = random.choice(playersList) \n",
    "    print(\"player: \" + playerPlaying)\n",
    "    print(f\"Now we are playing with {playerPlaying}\")\n",
    "    print(\"Truth (t) or Dare (d) ?\")\n",
    "    x = input().lower()\n",
    "    \n",
    "    if x == \"truth\" or x == \"t\":\n",
    "        print(\"The Oracle wants to ask you: \" + random.choice(questionsList))\n",
    "    \n",
    "    elif x == \"dare\" or x == \"d\":\n",
    "        print(\"The Oracle wants you to: \" + random.choice(daresList))\n",
    "\n",
    "    elif x == \"\":\n",
    "        sys.exit()\n",
    "    \n",
    "    \n",
    "    "
   ]
  },
  {
   "cell_type": "code",
   "execution_count": null,
   "metadata": {},
   "outputs": [],
   "source": [
    "2+2"
   ]
  },
  {
   "cell_type": "code",
   "execution_count": 2,
   "metadata": {},
   "outputs": [
    {
     "name": "stdout",
     "output_type": "stream",
     "text": [
      "asd\n"
     ]
    }
   ],
   "source": [
    "x = \"ASD\"\n",
    "print(x.lower())"
   ]
  },
  {
   "cell_type": "code",
   "execution_count": null,
   "metadata": {},
   "outputs": [],
   "source": []
  }
 ],
 "metadata": {
  "kernelspec": {
   "display_name": "Python 3",
   "language": "python",
   "name": "python3"
  },
  "language_info": {
   "codemirror_mode": {
    "name": "ipython",
    "version": 3
   },
   "file_extension": ".py",
   "mimetype": "text/x-python",
   "name": "python",
   "nbconvert_exporter": "python",
   "pygments_lexer": "ipython3",
   "version": "3.7.3"
  }
 },
 "nbformat": 4,
 "nbformat_minor": 2
}
