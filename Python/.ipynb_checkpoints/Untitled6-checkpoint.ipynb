{
 "cells": [
  {
   "cell_type": "code",
   "execution_count": 8,
   "metadata": {},
   "outputs": [
    {
     "data": {
      "text/plain": [
       "11"
      ]
     },
     "execution_count": 8,
     "metadata": {},
     "output_type": "execute_result"
    }
   ],
   "source": [
    "def myfunc(*args):\n",
    "    return sum(args)\n",
    "    \n",
    "myfunc(2,4,5)\n",
    "\n",
    "    \n",
    "\n"
   ]
  },
  {
   "cell_type": "code",
   "execution_count": 17,
   "metadata": {},
   "outputs": [
    {
     "data": {
      "text/plain": [
       "[2, 4, 6]"
      ]
     },
     "execution_count": 17,
     "metadata": {},
     "output_type": "execute_result"
    }
   ],
   "source": [
    "numlist = []\n",
    "def myfunc(*args):\n",
    "    for num in args:\n",
    "        if num%2 == 0:\n",
    "            numlist.append(num)\n",
    "    return numlist\n",
    "myfunc(1, 2, 3, 4, 5, 6)"
   ]
  },
  {
   "cell_type": "code",
   "execution_count": 20,
   "metadata": {},
   "outputs": [
    {
     "data": {
      "text/plain": [
       "[2, 4, 6, 4, 6, 8, 10]"
      ]
     },
     "execution_count": 20,
     "metadata": {},
     "output_type": "execute_result"
    }
   ],
   "source": [
    "def func(*args):\n",
    "    numlist = [num for num in args if num%2 == 0]\n",
    "    return numlist\n",
    "myfunc(4, 5, 6, 7, 8, 9, 10)"
   ]
  },
  {
   "cell_type": "code",
   "execution_count": 35,
   "metadata": {},
   "outputs": [
    {
     "name": "stdout",
     "output_type": "stream",
     "text": [
      "counter 0\n",
      "letter ciAo\n"
     ]
    },
    {
     "data": {
      "text/plain": [
       "['ciAo']"
      ]
     },
     "execution_count": 35,
     "metadata": {},
     "output_type": "execute_result"
    }
   ],
   "source": [
    "returnedstring = []\n",
    "def myfunc(*args):\n",
    "    for counter in range(len(args)):\n",
    "        if counter%2 == 0:\n",
    "            print(\"counter {}\".format(counter))\n",
    "            letter = args[0]\n",
    "            print(\"letter {}\".format(letter) )\n",
    "            returnedstring.append(letter)\n",
    "    return returnedstring\n",
    "myfunc(\"ciAo\")\n",
    "    "
   ]
  },
  {
   "cell_type": "code",
   "execution_count": 81,
   "metadata": {},
   "outputs": [
    {
     "data": {
      "text/plain": [
       "'AnTrOmOrPhIsM'"
      ]
     },
     "execution_count": 81,
     "metadata": {},
     "output_type": "execute_result"
    }
   ],
   "source": [
    "def myfunc(str):\n",
    "    newstring = \"\"\n",
    "    for counter in range(len(str)):\n",
    "        if counter%2 == 0:\n",
    "            newstring = newstring + str[counter].upper()\n",
    "        else:\n",
    "            newstring = newstring + str[counter].lower()\n",
    "            \n",
    "    \n",
    "    return newstring\n",
    "      \n",
    "\n",
    "myfunc(\"Antromorphism\")\n"
   ]
  },
  {
   "cell_type": "code",
   "execution_count": null,
   "metadata": {},
   "outputs": [],
   "source": [
    "ty"
   ]
  }
 ],
 "metadata": {
  "kernelspec": {
   "display_name": "Python 3",
   "language": "python",
   "name": "python3"
  },
  "language_info": {
   "codemirror_mode": {
    "name": "ipython",
    "version": 3
   },
   "file_extension": ".py",
   "mimetype": "text/x-python",
   "name": "python",
   "nbconvert_exporter": "python",
   "pygments_lexer": "ipython3",
   "version": "3.7.3"
  }
 },
 "nbformat": 4,
 "nbformat_minor": 2
}
