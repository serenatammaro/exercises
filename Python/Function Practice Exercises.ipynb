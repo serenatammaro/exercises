{
 "cells": [
  {
   "cell_type": "code",
   "execution_count": 1,
   "metadata": {},
   "outputs": [],
   "source": [
    "#LESSER OF TWO EVENS: Write a function that returns the lesser of two given numbers if both numbers are even, but returns the greater if one or both numbers are odd"
   ]
  },
  {
   "cell_type": "code",
   "execution_count": 2,
   "metadata": {},
   "outputs": [],
   "source": [
    "#lesser_of_two_evens(2,4) --> 2\n",
    "#lesser_of_two_evens(2,5) --> 5"
   ]
  },
  {
   "cell_type": "code",
   "execution_count": 82,
   "metadata": {},
   "outputs": [
    {
     "data": {
      "text/plain": [
       "2"
      ]
     },
     "execution_count": 82,
     "metadata": {},
     "output_type": "execute_result"
    }
   ],
   "source": [
    "def lesserof(a, b):\n",
    "    \n",
    "    if a%2 == 0 and b%2 == 0:\n",
    "        if a <= b:\n",
    "            result = a\n",
    "            #print(result)\n",
    "            #return a\n",
    "        elif b <= a:\n",
    "            result = b\n",
    "            #print(result)\n",
    "            #return b\n",
    "    elif a%2 != 0 or b%2 != 0:\n",
    "        if a >= b:\n",
    "            result = a\n",
    "            #print(result)\n",
    "            #return result\n",
    "        elif b>= a:\n",
    "            result = b\n",
    "            #print(result)\n",
    "            #return result\n",
    "    return result\n",
    "        \n",
    "\n",
    "\n",
    "#lesserof(2, 4)\n",
    "lesserof(2, 4)\n",
    "#print(result)"
   ]
  },
  {
   "cell_type": "code",
   "execution_count": 83,
   "metadata": {},
   "outputs": [],
   "source": [
    "#ANIMAL CRACKERS: Write a function takes a two-word string and returns True if both words begin with same letter¶\n"
   ]
  },
  {
   "cell_type": "code",
   "execution_count": 97,
   "metadata": {},
   "outputs": [
    {
     "data": {
      "text/plain": [
       "False"
      ]
     },
     "execution_count": 97,
     "metadata": {},
     "output_type": "execute_result"
    }
   ],
   "source": [
    "def animalcracker(str):\n",
    "    splittedstring = str.split()\n",
    "    word1 = splittedstring[0]\n",
    "    word2 = splittedstring[1]\n",
    "    if word1[0] == word2[0]:\n",
    "        result = True\n",
    "    else:\n",
    "        result = False\n",
    "    return result\n",
    "#animalcracker(\"Levelheaded Llama\")\n",
    "animalcracker('Crazy Kangaroo')"
   ]
  },
  {
   "cell_type": "code",
   "execution_count": 1,
   "metadata": {},
   "outputs": [],
   "source": [
    "#MAKES TWENTY: Given two integers, return True if the sum of the integers is 20 or if one of the integers is 20. If not, return False"
   ]
  },
  {
   "cell_type": "code",
   "execution_count": 9,
   "metadata": {},
   "outputs": [
    {
     "data": {
      "text/plain": [
       "False"
      ]
     },
     "execution_count": 9,
     "metadata": {},
     "output_type": "execute_result"
    }
   ],
   "source": [
    "def makes_twenty(num1, num2):\n",
    "    if num1 + num2 == 20 or num1 == 20 or num2 == 20:\n",
    "        return True\n",
    "    else:\n",
    "        return False\n",
    "    \n",
    "#makes_twenty(20,10) \n",
    "#makes_twenty(12,8) \n",
    "makes_twenty(2,3)"
   ]
  },
  {
   "cell_type": "code",
   "execution_count": 10,
   "metadata": {},
   "outputs": [],
   "source": [
    "# LEVEL 1 PROBLEMS"
   ]
  },
  {
   "cell_type": "code",
   "execution_count": 11,
   "metadata": {},
   "outputs": [],
   "source": [
    "# OLD MACDONALD: Write a function that capitalizes the first and fourth letters of a name"
   ]
  },
  {
   "cell_type": "code",
   "execution_count": 48,
   "metadata": {},
   "outputs": [
    {
     "name": "stdout",
     "output_type": "stream",
     "text": [
      "MacDonald\n"
     ]
    }
   ],
   "source": [
    "capitalized = \"\"\n",
    "def old_macdonald(word):\n",
    "    part1 = word[:3].capitalize()\n",
    "    part2 = word[3:].capitalize()\n",
    "    print (part1 + part2)\n",
    "    \n",
    "old_macdonald('macdonald')"
   ]
  },
  {
   "cell_type": "code",
   "execution_count": 27,
   "metadata": {},
   "outputs": [
    {
     "name": "stdout",
     "output_type": "stream",
     "text": [
      "word\n"
     ]
    }
   ],
   "source": [
    "word = \"word\"\n",
    "word.upper()\n",
    "print(word)"
   ]
  },
  {
   "cell_type": "code",
   "execution_count": 49,
   "metadata": {},
   "outputs": [],
   "source": [
    "# MASTER YODA: Given a sentence, return a sentence with the words reversed"
   ]
  },
  {
   "cell_type": "code",
   "execution_count": 87,
   "metadata": {},
   "outputs": [
    {
     "name": "stdout",
     "output_type": "stream",
     "text": [
      "home am I\n",
      "ready are We\n"
     ]
    }
   ],
   "source": [
    "def master_yoda(text):\n",
    "    wordlist = text.split()\n",
    "    print(\" \".join(wordlist[::-1]))\n",
    "   \n",
    "\n",
    "\n",
    "master_yoda('I am home')\n",
    "\n",
    "master_yoda('We are ready')"
   ]
  },
  {
   "cell_type": "code",
   "execution_count": 88,
   "metadata": {},
   "outputs": [],
   "source": [
    "# ALMOST THERE: Given an integer n, return True if n is within 10 of either 100 or 200"
   ]
  },
  {
   "cell_type": "code",
   "execution_count": 114,
   "metadata": {},
   "outputs": [
    {
     "data": {
      "text/plain": [
       "False"
      ]
     },
     "execution_count": 114,
     "metadata": {},
     "output_type": "execute_result"
    }
   ],
   "source": [
    "def almost_there(n):\n",
    "    if 90 <= n <= 110:\n",
    "        return True\n",
    "    elif 190 <= n <= 210:\n",
    "        return True\n",
    "    else:\n",
    "        return False\n",
    "    \n",
    "    \n",
    "#almost_there(104)\n",
    "\n",
    "almost_there(150)\n",
    "\n",
    "#almost_there(209)"
   ]
  },
  {
   "cell_type": "code",
   "execution_count": 115,
   "metadata": {},
   "outputs": [],
   "source": [
    "# LEVEL 2 PROBLEMS\n",
    "#FIND 33:\n",
    "#Given a list of ints, return True if the array contains a 3 next to a 3 somewhere."
   ]
  },
  {
   "cell_type": "code",
   "execution_count": 195,
   "metadata": {},
   "outputs": [
    {
     "data": {
      "text/plain": [
       "False"
      ]
     },
     "execution_count": 195,
     "metadata": {},
     "output_type": "execute_result"
    }
   ],
   "source": [
    "def has_33(nums):\n",
    "    for index in range(len(nums) -1):\n",
    "        if nums[index] == 3 and nums[index +1] == 3:\n",
    "            return True\n",
    "        \n",
    "    return False\n",
    "            \n",
    "\n",
    "#has_33([1, 3, 3])\n",
    "\n",
    "#has_33([1, 3, 1, 3])\n",
    "\n",
    "has_33([3, 1, 3])"
   ]
  },
  {
   "cell_type": "code",
   "execution_count": 196,
   "metadata": {},
   "outputs": [],
   "source": [
    "#PAPER DOLL: Given a string, return a string where for every character in the original there are three characters\n",
    "#paper_doll('Hello') --> 'HHHeeellllllooo'\n",
    "#paper_doll('Mississippi') --> 'MMMiiissssssiiippppppiii'\n",
    "\n"
   ]
  },
  {
   "cell_type": "code",
   "execution_count": 214,
   "metadata": {},
   "outputs": [
    {
     "data": {
      "text/plain": [
       "'MMMiiissssssiiissssssiiippppppiii'"
      ]
     },
     "execution_count": 214,
     "metadata": {},
     "output_type": "execute_result"
    }
   ],
   "source": [
    "def paper_doll(text):\n",
    "    newstring = \"\"\n",
    "    for letters in text:\n",
    "        newletter = letters * 3\n",
    "        newstring += newletter\n",
    "    return newstring\n",
    "\n",
    "paper_doll('Hello')\n",
    "paper_doll('Mississippi')"
   ]
  },
  {
   "cell_type": "code",
   "execution_count": 215,
   "metadata": {},
   "outputs": [],
   "source": [
    "#BLACKJACK: Given three integers between 1 and 11, if their sum is less than or equal to 21, return their sum. If their sum exceeds 21 and there's an eleven, reduce the total sum by 10. Finally, if the sum (even after adjustment) exceeds 21, return 'BUST'\n",
    "#blackjack(5,6,7) --> 18\n",
    "#blackjack(9,9,9) --> 'BUST'\n",
    "#blackjack(9,9,11) --> 19"
   ]
  },
  {
   "cell_type": "code",
   "execution_count": 245,
   "metadata": {},
   "outputs": [
    {
     "data": {
      "text/plain": [
       "18"
      ]
     },
     "execution_count": 245,
     "metadata": {},
     "output_type": "execute_result"
    }
   ],
   "source": [
    "def blackjack(a,b,c):\n",
    "    result = \"\"\n",
    "    if a + b + c > 21 and a == 11 or b == 11 or c == 11:\n",
    "        result = (a + b + c) - 10\n",
    "        if result > 21:\n",
    "            result = \"BUST\"\n",
    "            return result\n",
    "        else:\n",
    "            return result\n",
    "    if a + b + c > 21:\n",
    "        result = \"BUST\"\n",
    "        return result\n",
    "    if a + b + c < 21:\n",
    "        return a + b + c\n",
    "   \n",
    "\n",
    "blackjack(5,6,7)\n",
    "\n",
    "#blackjack(9,9,9)\n",
    "\n",
    "#blackjack(9,9,11)"
   ]
  },
  {
   "cell_type": "code",
   "execution_count": 1,
   "metadata": {},
   "outputs": [],
   "source": [
    "#SUMMER OF '69: Return the sum of the numbers in the array, except ignore sections of numbers starting with a 6 and extending to the next 9 (every 6 will be followed by at least one 9). Return 0 for no numbers.\n",
    "#summer_69([1, 3, 5]) --> 9\n",
    "#summer_69([4, 5, 6, 7, 8, 9]) --> 9\n",
    "#summer_69([2, 1, 6, 9, 11]) --> 14"
   ]
  },
  {
   "cell_type": "code",
   "execution_count": 87,
   "metadata": {},
   "outputs": [
    {
     "data": {
      "text/plain": [
       "14"
      ]
     },
     "execution_count": 87,
     "metadata": {},
     "output_type": "execute_result"
    }
   ],
   "source": [
    "def summer_69(arr):\n",
    "    listofnums = \"\"\n",
    "    sumofnum = 0\n",
    "    if 6 not in arr:\n",
    "        for nums in arr:\n",
    "            sumofnum = sumofnum + nums\n",
    "        return sumofnum\n",
    "    else:\n",
    "        for i in range(len(arr)):\n",
    "            if arr[i] == 6:\n",
    "                listofnums = arr[:i:]\n",
    "                for y in range(i, len(arr)):\n",
    "                    if arr[y] == 9:\n",
    "                        listofnums += arr[y + 1::]\n",
    "        for nums in listofnums:\n",
    "                sumofnum = sumofnum + nums\n",
    "        return sumofnum\n",
    "                        \n",
    "                \n",
    "    \n",
    "        \n",
    "    #print(sumofnum)\n",
    "\n",
    "#summer_69([1, 3, 5])\n",
    "\n",
    "#summer_69([4, 5, 6, 7, 8, 9])\n",
    "\n",
    "summer_69([2, 1, 6, 9, 11])"
   ]
  },
  {
   "cell_type": "code",
   "execution_count": 1,
   "metadata": {},
   "outputs": [],
   "source": [
    "# CHALLENGING PROBLEMS\n",
    "# SPY GAME: Write a function that takes in a list of integers and returns True if it contains 007 in order\n",
    "# spy_game([1,2,4,0,0,7,5]) --> True\n",
    "# spy_game([1,0,2,4,0,5,7]) --> True\n",
    "# spy_game([1,7,2,0,4,5,0]) --> False"
   ]
  },
  {
   "cell_type": "code",
   "execution_count": 25,
   "metadata": {},
   "outputs": [
    {
     "data": {
      "text/plain": [
       "True"
      ]
     },
     "execution_count": 25,
     "metadata": {},
     "output_type": "execute_result"
    }
   ],
   "source": [
    "def spy_game(nums):\n",
    "    for i in range(len(nums)):\n",
    "        if nums[i] == 0:\n",
    "            for y in range(i + 1, len(nums)):\n",
    "                if nums[y] == 0:\n",
    "                    for z in range(y + 1, len(nums)):\n",
    "                        if nums[z] == 7:\n",
    "                            return True\n",
    "            else:\n",
    "                return False\n",
    "\n",
    "spy_game([1,2,4,0,0,7,5])\n",
    "\n",
    "#spy_game([1,0,2,4,0,5,7])\n",
    "\n",
    "#spy_game([1,7,2,0,4,5,0])"
   ]
  },
  {
   "cell_type": "code",
   "execution_count": 26,
   "metadata": {},
   "outputs": [],
   "source": [
    "# COUNT PRIMES: Write a function that returns the number of prime numbers that exist up to and including a given number\n",
    "# count_primes(100) --> 25\n",
    "\n",
    "# By convention, 0 and 1 are not prime."
   ]
  },
  {
   "cell_type": "code",
   "execution_count": 5,
   "metadata": {},
   "outputs": [
    {
     "name": "stdout",
     "output_type": "stream",
     "text": [
      "[2, 3, 5, 7, 11, 13, 17, 19, 23, 29, 31, 37, 41, 43, 47, 53, 59, 61, 67, 71, 73, 79, 83, 89, 97]\n"
     ]
    },
    {
     "data": {
      "text/plain": [
       "25"
      ]
     },
     "execution_count": 5,
     "metadata": {},
     "output_type": "execute_result"
    }
   ],
   "source": [
    "def count_primes(num):\n",
    "    primeslist = [2]\n",
    "    #check if num i 0, 1\n",
    "    if num < 2:\n",
    "        return 0\n",
    "    #2 or greater\n",
    "    x = 3\n",
    "    while x <= num:\n",
    "        for y in range(3, x, 2):\n",
    "            if x%y == 0:\n",
    "                x += 2\n",
    "                break\n",
    "        else:\n",
    "            primeslist.append(x)\n",
    "            x += 2\n",
    "    print(primeslist)\n",
    "    return len(primeslist)\n",
    "            \n",
    "                \n",
    "   \n",
    "\n",
    "count_primes(100)\n",
    "\n"
   ]
  },
  {
   "cell_type": "code",
   "execution_count": 6,
   "metadata": {},
   "outputs": [],
   "source": [
    "#Just for fun:\n",
    "#PRINT BIG: Write a function that takes in a single letter, and returns a 5x5 representation of that letter\n",
    "#print_big('a')\n",
    "\n",
    "#out:   *  \n",
    "#      * *\n",
    "#     *****\n",
    "#     *   *\n",
    "#     *   *\n",
    "#HINT: Consider making a dictionary of possible patterns, and mapping the alphabet to specific 5-line combinations of patterns.\n",
    "#For purposes of this exercise, it's ok if your dictionary stops at \"E\"."
   ]
  },
  {
   "cell_type": "code",
   "execution_count": 14,
   "metadata": {},
   "outputs": [
    {
     "name": "stdout",
     "output_type": "stream",
     "text": [
      "*****\n",
      "*    \n",
      "*****\n",
      "*    \n",
      "*****\n"
     ]
    }
   ],
   "source": [
    "def print_big(char):\n",
    "    patterns = {1: '  *  ', 2: ' * * ', 3: '*   *', 4: '*****', 5: '**** ', 6: '   * ', 7: ' *   ', 8: '*  * ', 9: '*    '}\n",
    "    alphabet = {'A': [1, 2, 4, 3, 3], 'B': [5, 3, 5, 3, 5], 'C': [4, 9, 9, 9, 4], 'D': [5, 3, 3, 3, 5], 'E': [4, 9, 4, 9, 4]}\n",
    "    for pattern in alphabet[char.upper()]:\n",
    "        print(patterns[pattern])\n",
    "    \n",
    "print_big('e')"
   ]
  },
  {
   "cell_type": "code",
   "execution_count": null,
   "metadata": {},
   "outputs": [],
   "source": []
  }
 ],
 "metadata": {
  "kernelspec": {
   "display_name": "Python 3",
   "language": "python",
   "name": "python3"
  },
  "language_info": {
   "codemirror_mode": {
    "name": "ipython",
    "version": 3
   },
   "file_extension": ".py",
   "mimetype": "text/x-python",
   "name": "python",
   "nbconvert_exporter": "python",
   "pygments_lexer": "ipython3",
   "version": "3.7.3"
  }
 },
 "nbformat": 4,
 "nbformat_minor": 2
}
